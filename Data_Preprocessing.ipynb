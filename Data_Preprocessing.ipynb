{
  "cells": [
    {
      "cell_type": "markdown",
      "metadata": {
        "id": "view-in-github",
        "colab_type": "text"
      },
      "source": [
        "<a href=\"https://colab.research.google.com/github/meifa00/BMCS2114_European_Soccer/blob/main/Data_Preprocessing.ipynb\" target=\"_parent\"><img src=\"https://colab.research.google.com/assets/colab-badge.svg\" alt=\"Open In Colab\"/></a>"
      ]
    },
    {
      "cell_type": "markdown",
      "metadata": {
        "id": "TY0zbmWCPX-c"
      },
      "source": [
        "# **Data Preprocessing**"
      ]
    },
    {
      "cell_type": "code",
      "source": [
        "!pip install ipynb"
      ],
      "metadata": {
        "colab": {
          "base_uri": "https://localhost:8080/"
        },
        "id": "VzSJu0rRo1bi",
        "outputId": "03f8b103-89d2-4a29-f202-eb68a5a2b5d9"
      },
      "execution_count": 15,
      "outputs": [
        {
          "output_type": "stream",
          "name": "stdout",
          "text": [
            "Requirement already satisfied: ipynb in /usr/local/lib/python3.10/dist-packages (0.5.1)\n"
          ]
        }
      ]
    },
    {
      "cell_type": "code",
      "source": [
        "from ipynb.fs.full.Data_Understanding import *"
      ],
      "metadata": {
        "colab": {
          "base_uri": "https://localhost:8080/",
          "height": 314
        },
        "id": "Dm4rSSnep3iB",
        "outputId": "18fb9116-80c8-4669-c0e8-4c6342fd9fe4"
      },
      "execution_count": 16,
      "outputs": [
        {
          "output_type": "error",
          "ename": "ModuleNotFoundError",
          "evalue": "No module named 'ipynb.fs.full.Data_Understanding'",
          "traceback": [
            "\u001b[0;31m---------------------------------------------------------------------------\u001b[0m",
            "\u001b[0;31mModuleNotFoundError\u001b[0m                       Traceback (most recent call last)",
            "\u001b[0;32m<ipython-input-16-e3b40a7dd87a>\u001b[0m in \u001b[0;36m<cell line: 1>\u001b[0;34m()\u001b[0m\n\u001b[0;32m----> 1\u001b[0;31m \u001b[0;32mfrom\u001b[0m \u001b[0mipynb\u001b[0m\u001b[0;34m.\u001b[0m\u001b[0mfs\u001b[0m\u001b[0;34m.\u001b[0m\u001b[0mfull\u001b[0m\u001b[0;34m.\u001b[0m\u001b[0mData_Understanding\u001b[0m \u001b[0;32mimport\u001b[0m \u001b[0;34m*\u001b[0m\u001b[0;34m\u001b[0m\u001b[0;34m\u001b[0m\u001b[0m\n\u001b[0m",
            "\u001b[0;31mModuleNotFoundError\u001b[0m: No module named 'ipynb.fs.full.Data_Understanding'",
            "",
            "\u001b[0;31m---------------------------------------------------------------------------\u001b[0;32m\nNOTE: If your import is failing due to a missing package, you can\nmanually install dependencies using either !pip or !apt.\n\nTo view examples of installing some common dependencies, click the\n\"Open Examples\" button below.\n\u001b[0;31m---------------------------------------------------------------------------\u001b[0m\n"
          ],
          "errorDetails": {
            "actions": [
              {
                "action": "open_url",
                "actionText": "Open Examples",
                "url": "/notebooks/snippets/importing_libraries.ipynb"
              }
            ]
          }
        }
      ]
    },
    {
      "cell_type": "markdown",
      "metadata": {
        "id": "FhNm7kxcX0VA"
      },
      "source": [
        "## **Data Cleaning**"
      ]
    },
    {
      "cell_type": "markdown",
      "metadata": {
        "id": "DqKlRs0Agkw7"
      },
      "source": [
        "### **Country and League Table**"
      ]
    },
    {
      "cell_type": "code",
      "execution_count": null,
      "metadata": {
        "id": "a4O9aycdh0Pz"
      },
      "outputs": [],
      "source": [
        "# rename the name column in 'League' table\n",
        "league_df.rename(columns={'name':'league_name'},inplace=True)"
      ]
    },
    {
      "cell_type": "markdown",
      "metadata": {
        "id": "xy0rUzbDh9Oj"
      },
      "source": [
        "Merging the two tables to produce a new DataFrame."
      ]
    },
    {
      "cell_type": "code",
      "execution_count": null,
      "metadata": {
        "id": "UzM089wuiKeC"
      },
      "outputs": [],
      "source": [
        "country_league_df = country_df.merge(league_df,left_on='id',right_on='id')\n",
        "\n",
        "country_league_df.drop(columns='country_id',inplace=True)\n",
        "\n",
        "country_league_df.rename(columns={'id':'country_id','name':'country_name'},inplace=True)"
      ]
    },
    {
      "cell_type": "code",
      "execution_count": null,
      "metadata": {
        "id": "BZeZh3ddiwQV"
      },
      "outputs": [],
      "source": [
        "# new DataFrame\n",
        "country_league_df"
      ]
    },
    {
      "cell_type": "markdown",
      "metadata": {
        "id": "rvNrZefIgtE8"
      },
      "source": [
        "### **Match Table**"
      ]
    },
    {
      "cell_type": "markdown",
      "metadata": {
        "id": "s4CbmSb01Y3q"
      },
      "source": [
        "**Missing Data**"
      ]
    },
    {
      "cell_type": "code",
      "execution_count": null,
      "metadata": {
        "id": "81JIuXgFjF4x"
      },
      "outputs": [],
      "source": [
        "# drop columns with null values\n",
        "match_df.dropna(axis=1,inplace=True)"
      ]
    },
    {
      "cell_type": "markdown",
      "metadata": {
        "id": "9Wn8Imf7BZ15"
      },
      "source": [
        "**Data Type Issues**"
      ]
    },
    {
      "cell_type": "code",
      "execution_count": null,
      "metadata": {
        "id": "3cThFFrEjouk"
      },
      "outputs": [],
      "source": [
        "# 'date' column to Datetime datatype\n",
        "match_df['date'] = pd.to_datetime(match_df['date'])"
      ]
    },
    {
      "cell_type": "markdown",
      "metadata": {
        "id": "4lAiGxcwl_4a"
      },
      "source": [
        "Add two additional columns to the DataFrame with the starting and completion year of a season."
      ]
    },
    {
      "cell_type": "code",
      "execution_count": null,
      "metadata": {
        "id": "pLCu3Rd2mCiL"
      },
      "outputs": [],
      "source": [
        "begin_season = match_df['season'].apply(lambda x:x.split('/')[0])\n",
        "finish_season = match_df['season'].apply(lambda x:x.split('/')[1])\n",
        "\n",
        "match_df['begin_season'] = begin_season\n",
        "match_df['finish_season'] = finish_season\n",
        "\n",
        "# drop the season column which is not required anymore\n",
        "# match_df.drop(columns=['season'],inplace=True,axis=1)"
      ]
    },
    {
      "cell_type": "markdown",
      "metadata": {
        "id": "H6ptLYvlmPQy"
      },
      "source": [
        "Create an additional column in the DataFrame with the year when the match was played."
      ]
    },
    {
      "cell_type": "code",
      "execution_count": null,
      "metadata": {
        "id": "MfQTBfwvmikK"
      },
      "outputs": [],
      "source": [
        "# create new column\n",
        "match_df['match_year'] = match_df['date'].dt.year"
      ]
    },
    {
      "cell_type": "markdown",
      "metadata": {
        "id": "aPiOxj6Amrm5"
      },
      "source": [
        "Merge the 'Match' and 'CountryLeague' table generates a new table."
      ]
    },
    {
      "cell_type": "code",
      "execution_count": null,
      "metadata": {
        "id": "dPUBJhZfm4IS"
      },
      "outputs": [],
      "source": [
        "# merge tables\n",
        "match_df_v2 = match_df.merge(country_league_df,left_on='country_id',right_on='country_id')"
      ]
    },
    {
      "cell_type": "code",
      "execution_count": null,
      "metadata": {
        "id": "PVJDDNjmnJDG"
      },
      "outputs": [],
      "source": [
        "# remove country_id as it is same as league_id are same\n",
        "match_df_v2.drop(['country_id'],axis=1,inplace=True)\n",
        "match_df_v2.head()"
      ]
    },
    {
      "cell_type": "code",
      "execution_count": null,
      "metadata": {
        "id": "lq812daMnjS7"
      },
      "outputs": [],
      "source": [
        "# make the two new columns as int\n",
        "match_df_v2['begin_season'] = match_df_v2['begin_season'].astype('int64')\n",
        "match_df_v2['finish_season'] = match_df_v2['finish_season'].astype('int64')"
      ]
    },
    {
      "cell_type": "code",
      "execution_count": null,
      "metadata": {
        "id": "WpFnF1Pfnaex"
      },
      "outputs": [],
      "source": [
        "match_df_v2.info()"
      ]
    },
    {
      "cell_type": "code",
      "execution_count": null,
      "metadata": {
        "id": "lNuB4rtRnr9k"
      },
      "outputs": [],
      "source": [
        "# save the cleaned match DataFrame for further reference\n",
        "match_df_v2.to_csv('/content/drive/MyDrive/Colab Notebooks/European Soccer/match_merged.csv',index=False)"
      ]
    },
    {
      "cell_type": "markdown",
      "metadata": {
        "id": "4mTRv3jqnZjp"
      },
      "source": [
        "### **Player Table**"
      ]
    },
    {
      "cell_type": "markdown",
      "metadata": {
        "id": "vu0MjbwoBkTJ"
      },
      "source": [
        "**Data Type Issues**"
      ]
    },
    {
      "cell_type": "code",
      "execution_count": null,
      "metadata": {
        "id": "oEVe_JSUoTEq"
      },
      "outputs": [],
      "source": [
        "# 'birthday' column to Datetime datatype\n",
        "player_df['birthday'] = pd.to_datetime(player_df['birthday'])"
      ]
    },
    {
      "cell_type": "code",
      "execution_count": null,
      "metadata": {
        "id": "dXdlYpBvy2Vr"
      },
      "outputs": [],
      "source": [
        "# change column weight to float.\n",
        "player_df.weight = player_df.weight.astype('float')"
      ]
    },
    {
      "cell_type": "code",
      "execution_count": null,
      "metadata": {
        "id": "vh292AJjobr_"
      },
      "outputs": [],
      "source": [
        "player_df.info()"
      ]
    },
    {
      "cell_type": "markdown",
      "metadata": {
        "id": "KmFRkRFaDd95"
      },
      "source": [
        "### **Player Attributes Table**"
      ]
    },
    {
      "cell_type": "markdown",
      "metadata": {
        "id": "yUC2uChG5xyh"
      },
      "source": [
        "**Missing Data**"
      ]
    },
    {
      "cell_type": "code",
      "execution_count": null,
      "metadata": {
        "id": "-f1Uxp4M5zVQ"
      },
      "outputs": [],
      "source": [
        "numeric_columns = player_attributes_df.select_dtypes(include=['number']).columns\n",
        "categorical_columns = player_attributes_df.select_dtypes(include=['object']).columns"
      ]
    },
    {
      "cell_type": "code",
      "execution_count": null,
      "metadata": {
        "id": "99BLSI3F6pML"
      },
      "outputs": [],
      "source": [
        "player_attributes_df[numeric_columns] = player_attributes_df[numeric_columns].fillna(player_attributes_df[numeric_columns].mean())"
      ]
    },
    {
      "cell_type": "code",
      "execution_count": null,
      "metadata": {
        "id": "bH8995C_6r-H"
      },
      "outputs": [],
      "source": [
        "for col in categorical_columns:\n",
        "    mode_val = player_attributes_df[col].mode()[0]\n",
        "    player_attributes_df[col].fillna(mode_val, inplace=True)"
      ]
    },
    {
      "cell_type": "code",
      "execution_count": null,
      "metadata": {
        "id": "q_bbiMef6vun"
      },
      "outputs": [],
      "source": [
        "player_attributes_df.isnull().sum()"
      ]
    },
    {
      "cell_type": "markdown",
      "metadata": {
        "id": "PkJS3G-XBnUO"
      },
      "source": [
        "**Data Type Issues**"
      ]
    },
    {
      "cell_type": "code",
      "execution_count": null,
      "metadata": {
        "id": "j3s3hB1-Dh1Y"
      },
      "outputs": [],
      "source": [
        "# change 'date' type of date column\n",
        "player_attributes_df['date'] = pd.to_datetime(player_attributes_df['date'])"
      ]
    },
    {
      "cell_type": "code",
      "execution_count": null,
      "metadata": {
        "id": "U0mWDQBQEI6V"
      },
      "outputs": [],
      "source": [
        "player_attributes_df.info()"
      ]
    },
    {
      "cell_type": "markdown",
      "metadata": {
        "id": "oz3AVAN1EECx"
      },
      "source": [
        "Create a new table by merging the 'Player' and 'Player Attributes' tables."
      ]
    },
    {
      "cell_type": "code",
      "execution_count": null,
      "metadata": {
        "id": "CDjcFHOPEFAM"
      },
      "outputs": [],
      "source": [
        "player_with_attributes_df = player_df.merge(player_attributes_df,left_on='player_api_id',right_on='player_api_id')"
      ]
    },
    {
      "cell_type": "code",
      "execution_count": null,
      "metadata": {
        "id": "DzHGZOS7Ed0i"
      },
      "outputs": [],
      "source": [
        "# rename few columns\n",
        "player_with_attributes_df.rename(columns={'id_x':'id','player_fifa_api_id_x':'player_fifa_api_id'},inplace=True)\n",
        "\n",
        "# drop the columns that have got merged twice\n",
        "player_with_attributes_df.drop(['player_fifa_api_id_y','id_y'],axis=1,inplace=True)"
      ]
    },
    {
      "cell_type": "code",
      "execution_count": null,
      "metadata": {
        "id": "6ngN7ybIEpgA"
      },
      "outputs": [],
      "source": [
        "# save the cleaned player with atrributes DataFrame for further reference\n",
        "player_with_attributes_df.to_csv('/content/drive/MyDrive/Colab Notebooks/European Soccer/player_att_merged.csv',index=False)"
      ]
    },
    {
      "cell_type": "markdown",
      "metadata": {
        "id": "F--W-tiFE-Tx"
      },
      "source": [
        "### **Team Table**"
      ]
    },
    {
      "cell_type": "code",
      "execution_count": null,
      "metadata": {
        "id": "zAL6dGJoFQIp"
      },
      "outputs": [],
      "source": [
        "# drop the unwanted columns\n",
        "team_df.drop(['id','team_fifa_api_id'],axis=1,inplace=True)"
      ]
    },
    {
      "cell_type": "markdown",
      "metadata": {
        "id": "K7Hwwt_-FhaC"
      },
      "source": [
        "Combine the 'Team' table and 'Match' table."
      ]
    },
    {
      "cell_type": "code",
      "execution_count": null,
      "metadata": {
        "id": "tivkyullFuBK"
      },
      "outputs": [],
      "source": [
        "# add the home team column\n",
        "match_df_v2 = match_df_v2.merge(team_df,left_on='home_team_api_id',right_on='team_api_id')\n",
        "match_df_v2.rename(columns={'team_long_name':'home_team_name'},inplace=True)\n",
        "match_df_v2.drop(['team_api_id','team_short_name'],axis=1,inplace=True)\n",
        "\n",
        "# add the away team column\n",
        "match_df_v2 = match_df_v2.merge(team_df,left_on='away_team_api_id',right_on='team_api_id')\n",
        "match_df_v2.rename(columns={'team_long_name':'away_team_name'},inplace=True)\n",
        "match_df_v2.drop(['team_api_id','team_short_name'],axis=1,inplace=True)"
      ]
    },
    {
      "cell_type": "markdown",
      "metadata": {
        "id": "gS3eEMkyGgFQ"
      },
      "source": [
        "Generate a new column with the name of the victorious team for each individual match."
      ]
    },
    {
      "cell_type": "code",
      "execution_count": null,
      "metadata": {
        "id": "Z7b7Y6fJGgbg"
      },
      "outputs": [],
      "source": [
        "# function to find and return the name of the team\n",
        "def win(i):\n",
        "    home_team_name = i[0]\n",
        "    home_team_score = i[1]\n",
        "    away_team_name = i[2]\n",
        "    away_team_score = i[3]\n",
        "\n",
        "    if home_team_score > away_team_score:\n",
        "        return home_team_name\n",
        "    elif home_team_score < away_team_score:\n",
        "        return away_team_name\n",
        "    else:\n",
        "        return 'Tie'"
      ]
    },
    {
      "cell_type": "code",
      "execution_count": null,
      "metadata": {
        "id": "IWSGXLunGqMQ"
      },
      "outputs": [],
      "source": [
        "# apply the function to the DataFrame\n",
        "match_df_v2['winning_team']  = match_df_v2[['home_team_name', 'home_team_goal', 'away_team_name', 'away_team_goal']].apply(win, axis=1)"
      ]
    },
    {
      "cell_type": "code",
      "execution_count": null,
      "metadata": {
        "id": "TD3TayeTGzyg"
      },
      "outputs": [],
      "source": [
        "match_df_v2.head()"
      ]
    },
    {
      "cell_type": "code",
      "execution_count": null,
      "metadata": {
        "id": "hO0IjNcKHNRh"
      },
      "outputs": [],
      "source": [
        "# update the 'Match' DataFrame\n",
        "match_df_v2.to_csv('/content/drive/MyDrive/Colab Notebooks/European Soccer/match_merged.csv',index=False)"
      ]
    },
    {
      "cell_type": "markdown",
      "metadata": {
        "id": "ryBh2dTEHZG4"
      },
      "source": [
        "### **Team Attributes Table**"
      ]
    },
    {
      "cell_type": "markdown",
      "metadata": {
        "id": "2UDPrGxz64O8"
      },
      "source": [
        "**Missing Data**"
      ]
    },
    {
      "cell_type": "code",
      "execution_count": null,
      "metadata": {
        "id": "GdvtoWYD66Ug"
      },
      "outputs": [],
      "source": [
        "team_attributes_df.drop(columns=['buildUpPlayDribbling'], inplace=True)"
      ]
    },
    {
      "cell_type": "code",
      "execution_count": null,
      "metadata": {
        "id": "gKxOpGIN7U0f"
      },
      "outputs": [],
      "source": [
        "team_attributes_df.isnull().sum()"
      ]
    },
    {
      "cell_type": "markdown",
      "metadata": {
        "id": "-Zu-gzIMB14G"
      },
      "source": [
        "**Data Type Issues**"
      ]
    },
    {
      "cell_type": "code",
      "execution_count": null,
      "metadata": {
        "id": "qYZW7tOmHiZb"
      },
      "outputs": [],
      "source": [
        "# change data type\n",
        "team_attributes_df['date'] = pd.to_datetime(team_attributes_df['date'])\n",
        "\n",
        "# drop unwanted columns\n",
        "team_attributes_df.drop(['team_fifa_api_id'],axis=1,inplace=True)"
      ]
    },
    {
      "cell_type": "code",
      "execution_count": null,
      "metadata": {
        "id": "vLtuUmn7IBfC"
      },
      "outputs": [],
      "source": [
        "team_attributes_df.info()"
      ]
    },
    {
      "cell_type": "markdown",
      "metadata": {
        "id": "R7SuaW77H5ZI"
      },
      "source": [
        "Create a new column to indicate the data collection date."
      ]
    },
    {
      "cell_type": "code",
      "execution_count": null,
      "metadata": {
        "id": "yJcVLm-oH7op"
      },
      "outputs": [],
      "source": [
        "team_attributes_df['year'] = team_attributes_df['date'].dt.year"
      ]
    },
    {
      "cell_type": "markdown",
      "metadata": {
        "id": "CSnTrqpfIKpI"
      },
      "source": [
        "Combine the 'Team' table with the 'Team Attributes' table."
      ]
    },
    {
      "cell_type": "code",
      "execution_count": null,
      "metadata": {
        "id": "H-c7Nja4ISvp"
      },
      "outputs": [],
      "source": [
        "team_attributes_df_v2 = team_attributes_df.merge(team_df,left_on='team_api_id',right_on='team_api_id')"
      ]
    },
    {
      "cell_type": "code",
      "execution_count": null,
      "metadata": {
        "id": "67RUPKEPIePw"
      },
      "outputs": [],
      "source": [
        "team_attributes_df_v2.head()"
      ]
    },
    {
      "cell_type": "code",
      "execution_count": null,
      "metadata": {
        "id": "2Q-uwbNJInZ4"
      },
      "outputs": [],
      "source": [
        "# save the cleaned team with atrributes DataFrame for further reference\n",
        "team_attributes_df_v2.to_csv('/content/drive/MyDrive/Colab Notebooks/European Soccer/team_att_merged.csv',index=False)"
      ]
    }
  ],
  "metadata": {
    "colab": {
      "provenance": [],
      "include_colab_link": true
    },
    "kernelspec": {
      "display_name": "Python 3",
      "name": "python3"
    },
    "language_info": {
      "name": "python"
    }
  },
  "nbformat": 4,
  "nbformat_minor": 0
}